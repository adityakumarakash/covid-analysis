{
 "cells": [
  {
   "cell_type": "code",
   "execution_count": 1,
   "metadata": {},
   "outputs": [],
   "source": [
    "import argparse\n",
    "\n",
    "parser = argparse.ArgumentParser()\n",
    "parser.add_argument('--dataset_path', type=str, default='dataset_partition')\n",
    "parser.add_argument('--covid_chestxray_path', type=str, default='data/covid-chestxray-dataset')\n",
    "parser.add_argument('--chest_xray_pneumonia', type=str, default='data/chest-xray-pneumonia')\n",
    "\n",
    "args = parser.parse_args(\"\")"
   ]
  },
  {
   "cell_type": "code",
   "execution_count": 48,
   "metadata": {},
   "outputs": [],
   "source": [
    "import pdb, os, random\n",
    "import pandas as pd\n",
    "from sklearn.model_selection import train_test_split\n",
    "import pickle\n",
    "\n",
    "# makedir\n",
    "def make_dir(dirname, rm=False):\n",
    "    if not os.path.exists(dirname):\n",
    "        os.makedirs(dirname)\n",
    "    elif rm:\n",
    "        print('rm and mkdir ', dirname)\n",
    "        shutil.rmtree(dirname)\n",
    "        os.makedirs(dirname)\n",
    "        \n",
    "make_dir(args.dataset_path)"
   ]
  },
  {
   "cell_type": "markdown",
   "metadata": {},
   "source": [
    "## Covid-19 and Normal Chest X-Ray combined"
   ]
  },
  {
   "cell_type": "code",
   "execution_count": 40,
   "metadata": {},
   "outputs": [],
   "source": [
    "def read_covid_dataset():\n",
    "    metadata_path = os.path.join(args.covid_chestxray_path, 'metadata.csv')\n",
    "    images_dir = os.path.join(args.covid_chestxray_path, 'images')\n",
    "    csv = pd.read_csv(metadata_path)\n",
    "    # Filter the PA view xray items\n",
    "    csv = csv[csv['view'] == 'PA']\n",
    "    # Get the covid-19 cases\n",
    "    csv = csv[csv['finding'].str.contains('COVID-19')]\n",
    "    csv['filename'] = csv['filename'].apply(lambda x : os.path.join(images_dir, x))\n",
    "     # Remove duplicates\n",
    "    csv = csv.drop_duplicates(subset=['filename'])\n",
    "    return csv.to_dict(orient='records')"
   ]
  },
  {
   "cell_type": "code",
   "execution_count": 35,
   "metadata": {},
   "outputs": [],
   "source": [
    "def read_chest_xray_pneumonia():\n",
    "    def get_files(dirpath):\n",
    "        filelist = os.listdir(dirpath)\n",
    "        filelist = [os.path.join(dirpath, f) for f in filelist if os.path.isfile(os.path.join(dirpath, f))]\n",
    "        return filelist\n",
    "    \n",
    "    images_dir_train = os.path.join(args.chest_xray_pneumonia, 'chest_xray/train/NORMAL')\n",
    "    images_dir_test = os.path.join(args.chest_xray_pneumonia, 'chest_xray/test/NORMAL')\n",
    "    train_files = get_files(images_dir_train)\n",
    "    test_files = get_files(images_dir_test)\n",
    "    return train_files, test_files"
   ]
  },
  {
   "cell_type": "code",
   "execution_count": 77,
   "metadata": {},
   "outputs": [],
   "source": [
    "def create_dataset():\n",
    "    positive_all = read_covid_dataset()\n",
    "    negative_train, negative_test = read_chest_xray_pneumonia()\n",
    "    positive_train, positive_test = train_test_split(positive_all, train_size=0.8, shuffle=True)\n",
    "    #print(len(positive_test), len(positive_train))\n",
    "    #print(len(negative_train), len(negative_test))\n",
    "    negative_sample_train = random.sample(negative_train, len(positive_train))\n",
    "    negative_sample_test = random.sample(negative_test, len(positive_test))\n",
    "    \n",
    "    train = []\n",
    "    test = []\n",
    "    for item in positive_train:\n",
    "        ditem = {}\n",
    "        ditem['filename'] = item['filename']\n",
    "        ditem['label'] = 1\n",
    "        train.append(ditem)\n",
    "    \n",
    "    for item in positive_test:\n",
    "        ditem = {}\n",
    "        ditem['filename'] = item['filename']\n",
    "        ditem['label'] = 1\n",
    "        test.append(ditem)\n",
    "    \n",
    "    for item in negative_sample_train:\n",
    "        ditem = {}\n",
    "        ditem['filename'] = item\n",
    "        ditem['label'] = 0\n",
    "        train.append(ditem)\n",
    "    \n",
    "    for item in negative_sample_test:\n",
    "        ditem = {}\n",
    "        ditem['filename'] = item\n",
    "        ditem['label'] = 0\n",
    "        test.append(ditem)\n",
    "        \n",
    "    return train, test\n",
    "\n",
    "def test_pkl(trainfname='train.pkl', testfname='test.pkl'):\n",
    "    train_pkl = os.path.join(args.dataset_path, trainfname)\n",
    "    test_pkl = os.path.join(args.dataset_path, testfname)\n",
    "    with open(train_pkl, 'rb') as f:\n",
    "        l = pickle.load(f)\n",
    "        random.shuffle(l)\n",
    "        display(l[:10])\n",
    "    with open(test_pkl, 'rb') as f:\n",
    "        l = pickle.load(f)\n",
    "        random.shuffle(l)\n",
    "        display(l[:10])\n",
    "\n",
    "def generate_dataset_files():\n",
    "    train, test = create_dataset()\n",
    "    train_pkl = os.path.join(args.dataset_path, 'train.pkl')\n",
    "    test_pkl = os.path.join(args.dataset_path, 'test.pkl')\n",
    "    pickle.dump(train, open(train_pkl, 'wb'))\n",
    "    pickle.dump(test, open(test_pkl, 'wb'))\n",
    "    "
   ]
  },
  {
   "cell_type": "code",
   "execution_count": 56,
   "metadata": {},
   "outputs": [
    {
     "data": {
      "text/plain": [
       "[{'filename': 'data/covid-chestxray-dataset/images/01E392EE-69F9-4E33-BFCE-E5C968654078.jpeg',\n",
       "  'label': 1},\n",
       " {'filename': 'data/chest-xray-pneumonia/chest_xray/train/NORMAL/IM-0676-0001.jpeg',\n",
       "  'label': 0},\n",
       " {'filename': 'data/covid-chestxray-dataset/images/F2DE909F-E19C-4900-92F5-8F435B031AC6.jpeg',\n",
       "  'label': 1},\n",
       " {'filename': 'data/covid-chestxray-dataset/images/ryct.2020200034.fig5-day4.jpeg',\n",
       "  'label': 1},\n",
       " {'filename': 'data/chest-xray-pneumonia/chest_xray/train/NORMAL/NORMAL2-IM-0855-0001.jpeg',\n",
       "  'label': 0},\n",
       " {'filename': 'data/chest-xray-pneumonia/chest_xray/train/NORMAL/IM-0497-0001-0002.jpeg',\n",
       "  'label': 0},\n",
       " {'filename': 'data/covid-chestxray-dataset/images/93FE0BB1-022D-4F24-9727-987A07975FFB.jpeg',\n",
       "  'label': 1},\n",
       " {'filename': 'data/covid-chestxray-dataset/images/ciaa199.pdf-001-b.png',\n",
       "  'label': 1},\n",
       " {'filename': 'data/covid-chestxray-dataset/images/kjr-21-e24-g002-l-a.jpg',\n",
       "  'label': 1},\n",
       " {'filename': 'data/covid-chestxray-dataset/images/radiol.2020200490.fig3.jpeg',\n",
       "  'label': 1}]"
      ]
     },
     "metadata": {},
     "output_type": "display_data"
    },
    {
     "data": {
      "text/plain": [
       "[{'filename': 'data/covid-chestxray-dataset/images/all14238-fig-0001-m-b.jpg',\n",
       "  'label': 1},\n",
       " {'filename': 'data/chest-xray-pneumonia/chest_xray/test/NORMAL/NORMAL2-IM-0300-0001.jpeg',\n",
       "  'label': 0},\n",
       " {'filename': 'data/covid-chestxray-dataset/images/31BA3780-2323-493F-8AED-62081B9C383B.jpeg',\n",
       "  'label': 1},\n",
       " {'filename': 'data/chest-xray-pneumonia/chest_xray/test/NORMAL/NORMAL2-IM-0290-0001.jpeg',\n",
       "  'label': 0},\n",
       " {'filename': 'data/covid-chestxray-dataset/images/1-s2.0-S1684118220300682-main.pdf-003-b2.png',\n",
       "  'label': 1},\n",
       " {'filename': 'data/chest-xray-pneumonia/chest_xray/test/NORMAL/NORMAL2-IM-0238-0001.jpeg',\n",
       "  'label': 0},\n",
       " {'filename': 'data/chest-xray-pneumonia/chest_xray/test/NORMAL/IM-0037-0001.jpeg',\n",
       "  'label': 0},\n",
       " {'filename': 'data/chest-xray-pneumonia/chest_xray/test/NORMAL/NORMAL2-IM-0288-0001.jpeg',\n",
       "  'label': 0},\n",
       " {'filename': 'data/covid-chestxray-dataset/images/auntminnie-a-2020_01_28_23_51_6665_2020_01_28_Vietnam_coronavirus.jpeg',\n",
       "  'label': 1},\n",
       " {'filename': 'data/chest-xray-pneumonia/chest_xray/test/NORMAL/NORMAL2-IM-0341-0001.jpeg',\n",
       "  'label': 0}]"
      ]
     },
     "metadata": {},
     "output_type": "display_data"
    }
   ],
   "source": [
    "# Uncomment to regenerate the dataset\n",
    "#generate_dataset_files()\n",
    "test_pkl()"
   ]
  },
  {
   "cell_type": "markdown",
   "metadata": {},
   "source": [
    "## Multilabel dataset generation"
   ]
  },
  {
   "cell_type": "code",
   "execution_count": 69,
   "metadata": {},
   "outputs": [],
   "source": [
    "def read_chest_xray_pneumonia_full():\n",
    "    def get_files(dirpath):\n",
    "        filelist = os.listdir(dirpath)\n",
    "        filelist = [os.path.join(dirpath, f) for f in filelist if os.path.isfile(os.path.join(dirpath, f))]\n",
    "        return filelist\n",
    "    \n",
    "    images_dir_train_normal = os.path.join(args.chest_xray_pneumonia, 'chest_xray/train/NORMAL')\n",
    "    images_dir_test_normal = os.path.join(args.chest_xray_pneumonia, 'chest_xray/test/NORMAL')\n",
    "    images_dir_train_pneumonia = os.path.join(args.chest_xray_pneumonia, 'chest_xray/train/PNEUMONIA')\n",
    "    images_dir_test_pneumonia = os.path.join(args.chest_xray_pneumonia, 'chest_xray/test/PNEUMONIA')\n",
    "    train_files_normal = get_files(images_dir_train_normal)\n",
    "    test_files_normal = get_files(images_dir_test_normal)\n",
    "    train_files_pneumonia = get_files(images_dir_train_pneumonia)\n",
    "    test_files_pneumonia = get_files(images_dir_test_pneumonia)\n",
    "    \n",
    "    return train_files_normal, test_files_normal, train_files_pneumonia, test_files_pneumonia"
   ]
  },
  {
   "cell_type": "code",
   "execution_count": 74,
   "metadata": {},
   "outputs": [],
   "source": [
    "def create_multilabel_dataset():\n",
    "    covid_all = read_covid_dataset()\n",
    "    train_files_normal, test_files_normal, train_files_pneumonia, test_files_pneumonia = read_chest_xray_pneumonia_full()\n",
    "    \n",
    "    covid_train, covid_test = train_test_split(covid_all, train_size=0.8, shuffle=True)\n",
    "    normal_sample_train = random.sample(train_files_normal, 2*len(covid_train))  # Check for total samples\n",
    "    normal_sample_test = random.sample(test_files_normal, 2*len(covid_test))\n",
    "    \n",
    "    # Taking twice the number of covid samples for viral and bacterial pneumonia\n",
    "    # This might help in identifying covid specific features\n",
    "    random.shuffle(train_files_normal)\n",
    "    random.shuffle(test_files_normal)\n",
    "    random.shuffle(train_files_pneumonia)\n",
    "    random.shuffle(test_files_pneumonia)\n",
    "    \n",
    "    train = []\n",
    "    test = []\n",
    "    keys = ['covid', 'normal', 'viral', 'bacterial']\n",
    "    dummy_label = dict.fromkeys(keys, 0)\n",
    "    \n",
    "    def add_data_row(input_list, output_list, positive_keys, index=False):\n",
    "        for item in input_list:\n",
    "            ditem = {}\n",
    "            ditem['filename'] = item['filename'] if index else item\n",
    "            ditem['label'] = dummy_label.copy()\n",
    "            for key in positive_keys:\n",
    "                ditem['label'][key] = 1\n",
    "            output_list.append(ditem)\n",
    "    \n",
    "    add_data_row(covid_train, train, ['covid', 'viral'], index=True)\n",
    "    add_data_row(covid_test, test, ['covid', 'viral'], index=True)\n",
    "    add_data_row(normal_sample_train, train, ['normal'])\n",
    "    add_data_row(normal_sample_test, test, ['normal'])\n",
    "    add_data_row([x for x in train_files_pneumonia if 'virus' in x][:2*len(covid_train)],\n",
    "                train, ['viral'])\n",
    "    add_data_row([x for x in train_files_pneumonia if 'bacteria' in x][:2*len(covid_train)],\n",
    "                train, ['bacterial'])\n",
    "    add_data_row([x for x in test_files_pneumonia if 'virus' in x][:2*len(covid_test)],\n",
    "                test, ['viral'])\n",
    "    add_data_row([x for x in test_files_pneumonia if 'bacteria' in x][:2*len(covid_test)],\n",
    "                test, ['bacterial'])\n",
    "        \n",
    "    train_pkl = os.path.join(args.dataset_path, 'train_multilabel.pkl')\n",
    "    test_pkl = os.path.join(args.dataset_path, 'test_multilabel.pkl')\n",
    "    pickle.dump(train, open(train_pkl, 'wb'))\n",
    "    pickle.dump(test, open(test_pkl, 'wb'))"
   ]
  },
  {
   "cell_type": "code",
   "execution_count": 79,
   "metadata": {},
   "outputs": [
    {
     "data": {
      "text/plain": [
       "[{'filename': 'data/chest-xray-pneumonia/chest_xray/train/NORMAL/IM-0560-0001.jpeg',\n",
       "  'label': {'covid': 0, 'normal': 1, 'viral': 0, 'bacterial': 0}},\n",
       " {'filename': 'data/chest-xray-pneumonia/chest_xray/train/NORMAL/NORMAL2-IM-0530-0001.jpeg',\n",
       "  'label': {'covid': 0, 'normal': 1, 'viral': 0, 'bacterial': 0}},\n",
       " {'filename': 'data/covid-chestxray-dataset/images/6CB4EFC6-68FA-4CD5-940C-BEFA8DAFE9A7.jpeg',\n",
       "  'label': {'covid': 1, 'normal': 0, 'viral': 1, 'bacterial': 0}},\n",
       " {'filename': 'data/chest-xray-pneumonia/chest_xray/train/PNEUMONIA/person569_bacteria_2362.jpeg',\n",
       "  'label': {'covid': 0, 'normal': 0, 'viral': 0, 'bacterial': 1}},\n",
       " {'filename': 'data/covid-chestxray-dataset/images/8FDE8DBA-CFBD-4B4C-B1A4-6F36A93B7E87.jpeg',\n",
       "  'label': {'covid': 1, 'normal': 0, 'viral': 1, 'bacterial': 0}},\n",
       " {'filename': 'data/covid-chestxray-dataset/images/SARS-10.1148rg.242035193-g04mr34g09a-Fig9a-day17.jpeg',\n",
       "  'label': {'covid': 1, 'normal': 0, 'viral': 1, 'bacterial': 0}},\n",
       " {'filename': 'data/chest-xray-pneumonia/chest_xray/train/PNEUMONIA/person400_virus_794.jpeg',\n",
       "  'label': {'covid': 0, 'normal': 0, 'viral': 1, 'bacterial': 0}},\n",
       " {'filename': 'data/chest-xray-pneumonia/chest_xray/train/PNEUMONIA/person516_virus_1033.jpeg',\n",
       "  'label': {'covid': 0, 'normal': 0, 'viral': 1, 'bacterial': 0}},\n",
       " {'filename': 'data/chest-xray-pneumonia/chest_xray/train/NORMAL/NORMAL2-IM-0515-0001.jpeg',\n",
       "  'label': {'covid': 0, 'normal': 1, 'viral': 0, 'bacterial': 0}},\n",
       " {'filename': 'data/chest-xray-pneumonia/chest_xray/train/NORMAL/NORMAL2-IM-0948-0001.jpeg',\n",
       "  'label': {'covid': 0, 'normal': 1, 'viral': 0, 'bacterial': 0}}]"
      ]
     },
     "metadata": {},
     "output_type": "display_data"
    },
    {
     "data": {
      "text/plain": [
       "[{'filename': 'data/chest-xray-pneumonia/chest_xray/test/PNEUMONIA/person91_bacteria_445.jpeg',\n",
       "  'label': {'covid': 0, 'normal': 0, 'viral': 0, 'bacterial': 1}},\n",
       " {'filename': 'data/chest-xray-pneumonia/chest_xray/test/PNEUMONIA/person1668_virus_2882.jpeg',\n",
       "  'label': {'covid': 0, 'normal': 0, 'viral': 1, 'bacterial': 0}},\n",
       " {'filename': 'data/chest-xray-pneumonia/chest_xray/test/PNEUMONIA/person1680_virus_2897.jpeg',\n",
       "  'label': {'covid': 0, 'normal': 0, 'viral': 1, 'bacterial': 0}},\n",
       " {'filename': 'data/chest-xray-pneumonia/chest_xray/test/NORMAL/IM-0105-0001.jpeg',\n",
       "  'label': {'covid': 0, 'normal': 1, 'viral': 0, 'bacterial': 0}},\n",
       " {'filename': 'data/chest-xray-pneumonia/chest_xray/test/NORMAL/NORMAL2-IM-0348-0001.jpeg',\n",
       "  'label': {'covid': 0, 'normal': 1, 'viral': 0, 'bacterial': 0}},\n",
       " {'filename': 'data/covid-chestxray-dataset/images/nejmc2001573_f1b.jpeg',\n",
       "  'label': {'covid': 1, 'normal': 0, 'viral': 1, 'bacterial': 0}},\n",
       " {'filename': 'data/chest-xray-pneumonia/chest_xray/test/PNEUMONIA/person43_virus_92.jpeg',\n",
       "  'label': {'covid': 0, 'normal': 0, 'viral': 1, 'bacterial': 0}},\n",
       " {'filename': 'data/chest-xray-pneumonia/chest_xray/test/PNEUMONIA/person51_virus_105.jpeg',\n",
       "  'label': {'covid': 0, 'normal': 0, 'viral': 1, 'bacterial': 0}},\n",
       " {'filename': 'data/covid-chestxray-dataset/images/streptococcus-pneumoniae-pneumonia-1.jpg',\n",
       "  'label': {'covid': 1, 'normal': 0, 'viral': 1, 'bacterial': 0}},\n",
       " {'filename': 'data/chest-xray-pneumonia/chest_xray/test/PNEUMONIA/person28_virus_63.jpeg',\n",
       "  'label': {'covid': 0, 'normal': 0, 'viral': 1, 'bacterial': 0}}]"
      ]
     },
     "metadata": {},
     "output_type": "display_data"
    }
   ],
   "source": [
    "create_multilabel_dataset()\n",
    "test_pkl(trainfname='train_multilabel.pkl', testfname='test_multilabel.pkl')"
   ]
  }
 ],
 "metadata": {
  "kernelspec": {
   "display_name": "Python 3",
   "language": "python",
   "name": "python3"
  },
  "language_info": {
   "codemirror_mode": {
    "name": "ipython",
    "version": 3
   },
   "file_extension": ".py",
   "mimetype": "text/x-python",
   "name": "python",
   "nbconvert_exporter": "python",
   "pygments_lexer": "ipython3",
   "version": "3.7.5"
  }
 },
 "nbformat": 4,
 "nbformat_minor": 2
}
